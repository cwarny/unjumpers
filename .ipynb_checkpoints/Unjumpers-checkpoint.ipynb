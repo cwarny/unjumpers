{
 "cells": [
  {
   "cell_type": "markdown",
   "id": "d37eadb3",
   "metadata": {},
   "source": [
    "# Unjumpers\n",
    "\n",
    "Problem statement: https://docs.google.com/document/d/1D1JcIgslNdbggmsLZlTR_93LesWWRsTxLEJ57hQrE44/edit#"
   ]
  },
  {
   "cell_type": "code",
   "execution_count": 49,
   "id": "3fac4062",
   "metadata": {},
   "outputs": [],
   "source": [
    "class Board:\n",
    "    def __init__(self, s):\n",
    "        self.s = s\n",
    "        self.ops = [\n",
    "            [-1, 1, 1], # unjump\n",
    "            [1, -1, 1], # unjump\n",
    "            [1, 1, -1], # unjump\n",
    "            [-1, -1, 1], # jump\n",
    "            [-1, 1, -1], # jump\n",
    "            [1, -1, -1] # jump\n",
    "        ]\n",
    "    \n",
    "    def represent(self, s):\n",
    "        v = [0,0,0]\n",
    "        for i,e in enumerate(s):\n",
    "            pos = i % 3\n",
    "            if e == '*':\n",
    "                v[pos] += 1\n",
    "        return v\n",
    "    \n",
    "    def reachableTargets(self, targets):\n",
    "        res = []\n",
    "        for target in targets:\n",
    "            if self.is_reachable(target):\n",
    "                res.append(target)\n",
    "        return len(res)\n",
    "    \n",
    "    def is_reachable(self, target):\n",
    "        start, target = map(self.represent, [self.s, target])\n",
    "        deltas = [target[i] - start[i] for i in range(3)]\n",
    "        for i,d in enumerate(deltas):\n",
    "            if d % 2 == 0: \n",
    "                # we can always bring a delta down to zero because we\n",
    "                # know that we can combine either two jumps or two unjumps to add\n",
    "                # or subtract 2 to any vector element without affecting the others\n",
    "                deltas[i] = 0\n",
    "            else:\n",
    "                # if the delta is odd, we can either land just 1 above or 1 below\n",
    "                # without affecting the others. We pick a consistent rule to choose\n",
    "                # whether we land above or below; the rule is if the delta is positive\n",
    "                # we land above, below otherwise\n",
    "                deltas[i] = 1 if d > 0 else -1\n",
    "        # This means that the final `deltas` vector will be some combination of 0s and 1s\n",
    "        if deltas in self.ops: \n",
    "            # If the final `deltas` is one of the basic ops (`in self.ops`), we can do one final op\n",
    "            # to reach the target\n",
    "            return True\n",
    "        if deltas == [0,0,0]:\n",
    "            # If the final `deltas` is all 0s, then we've already reached the target\n",
    "            return True\n",
    "        if deltas == [1,1,1]:\n",
    "            # If the final `deltas` is all 1s, we know we can flip any of the 1s into a -1\n",
    "            # using two jumps, which would give us one of the basic ops\n",
    "            return True\n",
    "        if deltas == [-1,-1,-1]:\n",
    "            # Similarly, if the final `deltas` is all -1s, we know we can flip any of the -1s into\n",
    "            # a +1 using two unjumps\n",
    "            return True\n",
    "        return False"
   ]
  },
  {
   "cell_type": "code",
   "execution_count": 50,
   "id": "8e75e242",
   "metadata": {},
   "outputs": [],
   "source": [
    "test_cases = [\n",
    "    (\"**.\", [\"..*\",\"*.**\",\".*.*\"], 3),\n",
    "    (\"..***\", [\"..****..*\", \"..***....\", \"..****\"], 2),\n",
    "    (\"*..*\", [\"*..*......\", \"*.....*...\", \"...*.....*\", \"...*..*...\", \"*........*\", \"*...***..*\"], 6),\n",
    "    (\"...***\", [\"***...\", \"..****\", \"**....**\", \".*.*.*\"], 3)\n",
    "]"
   ]
  },
  {
   "cell_type": "code",
   "execution_count": 58,
   "id": "20370c33",
   "metadata": {},
   "outputs": [],
   "source": [
    "for start, targets, ground_truth in test_cases:\n",
    "    board = Board(start)\n",
    "    assert board.reachableTargets(targets) == ground_truth"
   ]
  },
  {
   "cell_type": "code",
   "execution_count": null,
   "id": "a2b0b134",
   "metadata": {},
   "outputs": [],
   "source": []
  }
 ],
 "metadata": {
  "kernelspec": {
   "display_name": "py39",
   "language": "python",
   "name": "py39"
  },
  "language_info": {
   "codemirror_mode": {
    "name": "ipython",
    "version": 3
   },
   "file_extension": ".py",
   "mimetype": "text/x-python",
   "name": "python",
   "nbconvert_exporter": "python",
   "pygments_lexer": "ipython3",
   "version": "3.9.12"
  }
 },
 "nbformat": 4,
 "nbformat_minor": 5
}
